{
  "nbformat": 4,
  "nbformat_minor": 0,
  "metadata": {
    "colab": {
      "provenance": [],
      "authorship_tag": "ABX9TyP58KUhVzCqvLCktymq5/bd",
      "include_colab_link": true
    },
    "kernelspec": {
      "name": "python3",
      "display_name": "Python 3"
    },
    "language_info": {
      "name": "python"
    }
  },
  "cells": [
    {
      "cell_type": "markdown",
      "metadata": {
        "id": "view-in-github",
        "colab_type": "text"
      },
      "source": [
        "<a href=\"https://colab.research.google.com/github/rlarjsdn4505/first-repository/blob/master/%EB%8D%B0%EC%9D%B4%ED%84%B0_%ED%86%A4_df.ipynb\" target=\"_parent\"><img src=\"https://colab.research.google.com/assets/colab-badge.svg\" alt=\"Open In Colab\"/></a>"
      ]
    },
    {
      "cell_type": "code",
      "execution_count": null,
      "metadata": {
        "id": "7juNiggS48l2"
      },
      "outputs": [],
      "source": [
        "import pandas as pd\n",
        "import numpy as np\n",
        "import matplotlib.pyplot as plt\n",
        "import seaborn as sns"
      ]
    },
    {
      "cell_type": "code",
      "source": [
        "from google.colab import drive\n",
        "drive.mount('/content/drive')"
      ],
      "metadata": {
        "colab": {
          "base_uri": "https://localhost:8080/"
        },
        "id": "qg85G4Ga5BBh",
        "outputId": "abb2c48a-5742-4bba-a9ec-ccbd0d7b367b"
      },
      "execution_count": null,
      "outputs": [
        {
          "output_type": "stream",
          "name": "stdout",
          "text": [
            "Mounted at /content/drive\n"
          ]
        }
      ]
    },
    {
      "cell_type": "code",
      "source": [
        "df = pd.read_csv(\"/content/drive/MyDrive/dataton/df1.csv\")"
      ],
      "metadata": {
        "id": "lKKWw85l5EDy"
      },
      "execution_count": null,
      "outputs": []
    },
    {
      "cell_type": "code",
      "source": [
        "# 모든 컬럼 보이게\n",
        "pd.set_option('display.max_columns', None)\n",
        "\n",
        "# 가로 폭 제한 없애기\n",
        "pd.set_option('display.width', None)\n",
        "\n",
        "# 문자열(컬럼명/텍스트 값) 잘리지 않게\n",
        "pd.set_option('display.max_colwidth', None)\n"
      ],
      "metadata": {
        "id": "Cku6d_Y_4G3y"
      },
      "execution_count": null,
      "outputs": []
    },
    {
      "cell_type": "code",
      "source": [
        "df.head()"
      ],
      "metadata": {
        "colab": {
          "base_uri": "https://localhost:8080/",
          "height": 851
        },
        "id": "sd5z44xgTYdu",
        "outputId": "4c06690e-4919-452f-d4e8-3c00ab7001fa"
      },
      "execution_count": null,
      "outputs": [
        {
          "output_type": "execute_result",
          "data": {
            "text/plain": [
              "                               주문ID                              리뷰ID  리뷰점수  \\\n",
              "0  00010242fe8c5a6d1ba2dd792cb16214  97ca439bc427b48bc1cd7177abe71365     5   \n",
              "1  00018f77f2f0320c557190d7a144bdd3  7b07bacd811c4117b742569b04ce3580     4   \n",
              "2  000229ec398224ef6ca0657da4fc703e  0c5b33dea94867d1ac402749e5438e8b     5   \n",
              "3  00024acbcdf0a6daa1e931b038114c75  f4028d019cb58564807486a6aaf33817     4   \n",
              "4  00042b26cf59d7ce69dfabb4e55b4fd9  940144190dcba6351888cafa43f3a3a5     5   \n",
              "\n",
              "                 리뷰작성일       주문상태                 구매일시                실제배송일  \\\n",
              "0  2017-09-21 00:00:00  delivered  2017-09-13 08:59:02  2017-09-20 23:43:48   \n",
              "1  2017-05-13 00:00:00  delivered  2017-04-26 10:53:06  2017-05-12 16:04:24   \n",
              "2  2018-01-23 00:00:00  delivered  2018-01-14 14:33:31  2018-01-22 13:19:16   \n",
              "3  2018-08-15 00:00:00  delivered  2018-08-08 10:00:35  2018-08-14 13:32:39   \n",
              "4  2017-03-02 00:00:00  delivered  2017-02-04 13:57:51  2017-03-01 16:42:31   \n",
              "\n",
              "        예상배송일                            고객고유ID  고객우편번호앞자리  \\\n",
              "0  2017-09-29  871766c5855e863f6eccc05f988b23cb      28013   \n",
              "1  2017-05-15  eb28e67c4c0b83846050ddfb8a35d051      15775   \n",
              "2  2018-02-05  3818d81c6709e39d06b2738a8d3a2474      35661   \n",
              "3  2018-08-20  af861d436cfc08b2c2ddefd0ba074622      12952   \n",
              "4  2017-03-17  64b576fb70d441e8f1b2d7d446e483c5      13226   \n",
              "\n",
              "                    고객도시 고객주  주문개수  상품가격합계  배송비합계        상품카테고리  결제금액(주문합)  \\\n",
              "0  campos dos goytacazes  RJ     1   58.90  13.29  문화/취미/엔터테인먼트      72.19   \n",
              "1        santa fe do sul  SP     1  239.90  19.93          반려동물     259.83   \n",
              "2          para de minas  MG     1  199.00  17.87   가구/홈리빙/인테리어     216.87   \n",
              "3                atibaia  SP     1   12.99  12.79         뷰티/헬스      25.78   \n",
              "4        varzea paulista  SP     1  199.90  18.14   가구/홈리빙/인테리어     218.04   \n",
              "\n",
              "    총결제금액  배송지연일수  배송지연여부  \n",
              "0   72.19       8       0  \n",
              "1  259.83       2       0  \n",
              "2  216.87      13       0  \n",
              "3   25.78       5       0  \n",
              "4  218.04      15       0  "
            ],
            "text/html": [
              "\n",
              "  <div id=\"df-8e38ddac-96d1-4870-8305-556f24251fc1\" class=\"colab-df-container\">\n",
              "    <div>\n",
              "<style scoped>\n",
              "    .dataframe tbody tr th:only-of-type {\n",
              "        vertical-align: middle;\n",
              "    }\n",
              "\n",
              "    .dataframe tbody tr th {\n",
              "        vertical-align: top;\n",
              "    }\n",
              "\n",
              "    .dataframe thead th {\n",
              "        text-align: right;\n",
              "    }\n",
              "</style>\n",
              "<table border=\"1\" class=\"dataframe\">\n",
              "  <thead>\n",
              "    <tr style=\"text-align: right;\">\n",
              "      <th></th>\n",
              "      <th>주문ID</th>\n",
              "      <th>리뷰ID</th>\n",
              "      <th>리뷰점수</th>\n",
              "      <th>리뷰작성일</th>\n",
              "      <th>주문상태</th>\n",
              "      <th>구매일시</th>\n",
              "      <th>실제배송일</th>\n",
              "      <th>예상배송일</th>\n",
              "      <th>고객고유ID</th>\n",
              "      <th>고객우편번호앞자리</th>\n",
              "      <th>고객도시</th>\n",
              "      <th>고객주</th>\n",
              "      <th>주문개수</th>\n",
              "      <th>상품가격합계</th>\n",
              "      <th>배송비합계</th>\n",
              "      <th>상품카테고리</th>\n",
              "      <th>결제금액(주문합)</th>\n",
              "      <th>총결제금액</th>\n",
              "      <th>배송지연일수</th>\n",
              "      <th>배송지연여부</th>\n",
              "    </tr>\n",
              "  </thead>\n",
              "  <tbody>\n",
              "    <tr>\n",
              "      <th>0</th>\n",
              "      <td>00010242fe8c5a6d1ba2dd792cb16214</td>\n",
              "      <td>97ca439bc427b48bc1cd7177abe71365</td>\n",
              "      <td>5</td>\n",
              "      <td>2017-09-21 00:00:00</td>\n",
              "      <td>delivered</td>\n",
              "      <td>2017-09-13 08:59:02</td>\n",
              "      <td>2017-09-20 23:43:48</td>\n",
              "      <td>2017-09-29</td>\n",
              "      <td>871766c5855e863f6eccc05f988b23cb</td>\n",
              "      <td>28013</td>\n",
              "      <td>campos dos goytacazes</td>\n",
              "      <td>RJ</td>\n",
              "      <td>1</td>\n",
              "      <td>58.90</td>\n",
              "      <td>13.29</td>\n",
              "      <td>문화/취미/엔터테인먼트</td>\n",
              "      <td>72.19</td>\n",
              "      <td>72.19</td>\n",
              "      <td>8</td>\n",
              "      <td>0</td>\n",
              "    </tr>\n",
              "    <tr>\n",
              "      <th>1</th>\n",
              "      <td>00018f77f2f0320c557190d7a144bdd3</td>\n",
              "      <td>7b07bacd811c4117b742569b04ce3580</td>\n",
              "      <td>4</td>\n",
              "      <td>2017-05-13 00:00:00</td>\n",
              "      <td>delivered</td>\n",
              "      <td>2017-04-26 10:53:06</td>\n",
              "      <td>2017-05-12 16:04:24</td>\n",
              "      <td>2017-05-15</td>\n",
              "      <td>eb28e67c4c0b83846050ddfb8a35d051</td>\n",
              "      <td>15775</td>\n",
              "      <td>santa fe do sul</td>\n",
              "      <td>SP</td>\n",
              "      <td>1</td>\n",
              "      <td>239.90</td>\n",
              "      <td>19.93</td>\n",
              "      <td>반려동물</td>\n",
              "      <td>259.83</td>\n",
              "      <td>259.83</td>\n",
              "      <td>2</td>\n",
              "      <td>0</td>\n",
              "    </tr>\n",
              "    <tr>\n",
              "      <th>2</th>\n",
              "      <td>000229ec398224ef6ca0657da4fc703e</td>\n",
              "      <td>0c5b33dea94867d1ac402749e5438e8b</td>\n",
              "      <td>5</td>\n",
              "      <td>2018-01-23 00:00:00</td>\n",
              "      <td>delivered</td>\n",
              "      <td>2018-01-14 14:33:31</td>\n",
              "      <td>2018-01-22 13:19:16</td>\n",
              "      <td>2018-02-05</td>\n",
              "      <td>3818d81c6709e39d06b2738a8d3a2474</td>\n",
              "      <td>35661</td>\n",
              "      <td>para de minas</td>\n",
              "      <td>MG</td>\n",
              "      <td>1</td>\n",
              "      <td>199.00</td>\n",
              "      <td>17.87</td>\n",
              "      <td>가구/홈리빙/인테리어</td>\n",
              "      <td>216.87</td>\n",
              "      <td>216.87</td>\n",
              "      <td>13</td>\n",
              "      <td>0</td>\n",
              "    </tr>\n",
              "    <tr>\n",
              "      <th>3</th>\n",
              "      <td>00024acbcdf0a6daa1e931b038114c75</td>\n",
              "      <td>f4028d019cb58564807486a6aaf33817</td>\n",
              "      <td>4</td>\n",
              "      <td>2018-08-15 00:00:00</td>\n",
              "      <td>delivered</td>\n",
              "      <td>2018-08-08 10:00:35</td>\n",
              "      <td>2018-08-14 13:32:39</td>\n",
              "      <td>2018-08-20</td>\n",
              "      <td>af861d436cfc08b2c2ddefd0ba074622</td>\n",
              "      <td>12952</td>\n",
              "      <td>atibaia</td>\n",
              "      <td>SP</td>\n",
              "      <td>1</td>\n",
              "      <td>12.99</td>\n",
              "      <td>12.79</td>\n",
              "      <td>뷰티/헬스</td>\n",
              "      <td>25.78</td>\n",
              "      <td>25.78</td>\n",
              "      <td>5</td>\n",
              "      <td>0</td>\n",
              "    </tr>\n",
              "    <tr>\n",
              "      <th>4</th>\n",
              "      <td>00042b26cf59d7ce69dfabb4e55b4fd9</td>\n",
              "      <td>940144190dcba6351888cafa43f3a3a5</td>\n",
              "      <td>5</td>\n",
              "      <td>2017-03-02 00:00:00</td>\n",
              "      <td>delivered</td>\n",
              "      <td>2017-02-04 13:57:51</td>\n",
              "      <td>2017-03-01 16:42:31</td>\n",
              "      <td>2017-03-17</td>\n",
              "      <td>64b576fb70d441e8f1b2d7d446e483c5</td>\n",
              "      <td>13226</td>\n",
              "      <td>varzea paulista</td>\n",
              "      <td>SP</td>\n",
              "      <td>1</td>\n",
              "      <td>199.90</td>\n",
              "      <td>18.14</td>\n",
              "      <td>가구/홈리빙/인테리어</td>\n",
              "      <td>218.04</td>\n",
              "      <td>218.04</td>\n",
              "      <td>15</td>\n",
              "      <td>0</td>\n",
              "    </tr>\n",
              "  </tbody>\n",
              "</table>\n",
              "</div>\n",
              "    <div class=\"colab-df-buttons\">\n",
              "\n",
              "  <div class=\"colab-df-container\">\n",
              "    <button class=\"colab-df-convert\" onclick=\"convertToInteractive('df-8e38ddac-96d1-4870-8305-556f24251fc1')\"\n",
              "            title=\"Convert this dataframe to an interactive table.\"\n",
              "            style=\"display:none;\">\n",
              "\n",
              "  <svg xmlns=\"http://www.w3.org/2000/svg\" height=\"24px\" viewBox=\"0 -960 960 960\">\n",
              "    <path d=\"M120-120v-720h720v720H120Zm60-500h600v-160H180v160Zm220 220h160v-160H400v160Zm0 220h160v-160H400v160ZM180-400h160v-160H180v160Zm440 0h160v-160H620v160ZM180-180h160v-160H180v160Zm440 0h160v-160H620v160Z\"/>\n",
              "  </svg>\n",
              "    </button>\n",
              "\n",
              "  <style>\n",
              "    .colab-df-container {\n",
              "      display:flex;\n",
              "      gap: 12px;\n",
              "    }\n",
              "\n",
              "    .colab-df-convert {\n",
              "      background-color: #E8F0FE;\n",
              "      border: none;\n",
              "      border-radius: 50%;\n",
              "      cursor: pointer;\n",
              "      display: none;\n",
              "      fill: #1967D2;\n",
              "      height: 32px;\n",
              "      padding: 0 0 0 0;\n",
              "      width: 32px;\n",
              "    }\n",
              "\n",
              "    .colab-df-convert:hover {\n",
              "      background-color: #E2EBFA;\n",
              "      box-shadow: 0px 1px 2px rgba(60, 64, 67, 0.3), 0px 1px 3px 1px rgba(60, 64, 67, 0.15);\n",
              "      fill: #174EA6;\n",
              "    }\n",
              "\n",
              "    .colab-df-buttons div {\n",
              "      margin-bottom: 4px;\n",
              "    }\n",
              "\n",
              "    [theme=dark] .colab-df-convert {\n",
              "      background-color: #3B4455;\n",
              "      fill: #D2E3FC;\n",
              "    }\n",
              "\n",
              "    [theme=dark] .colab-df-convert:hover {\n",
              "      background-color: #434B5C;\n",
              "      box-shadow: 0px 1px 3px 1px rgba(0, 0, 0, 0.15);\n",
              "      filter: drop-shadow(0px 1px 2px rgba(0, 0, 0, 0.3));\n",
              "      fill: #FFFFFF;\n",
              "    }\n",
              "  </style>\n",
              "\n",
              "    <script>\n",
              "      const buttonEl =\n",
              "        document.querySelector('#df-8e38ddac-96d1-4870-8305-556f24251fc1 button.colab-df-convert');\n",
              "      buttonEl.style.display =\n",
              "        google.colab.kernel.accessAllowed ? 'block' : 'none';\n",
              "\n",
              "      async function convertToInteractive(key) {\n",
              "        const element = document.querySelector('#df-8e38ddac-96d1-4870-8305-556f24251fc1');\n",
              "        const dataTable =\n",
              "          await google.colab.kernel.invokeFunction('convertToInteractive',\n",
              "                                                    [key], {});\n",
              "        if (!dataTable) return;\n",
              "\n",
              "        const docLinkHtml = 'Like what you see? Visit the ' +\n",
              "          '<a target=\"_blank\" href=https://colab.research.google.com/notebooks/data_table.ipynb>data table notebook</a>'\n",
              "          + ' to learn more about interactive tables.';\n",
              "        element.innerHTML = '';\n",
              "        dataTable['output_type'] = 'display_data';\n",
              "        await google.colab.output.renderOutput(dataTable, element);\n",
              "        const docLink = document.createElement('div');\n",
              "        docLink.innerHTML = docLinkHtml;\n",
              "        element.appendChild(docLink);\n",
              "      }\n",
              "    </script>\n",
              "  </div>\n",
              "\n",
              "\n",
              "    <div id=\"df-5840cdd0-48d3-4fe4-a365-862de7bb016d\">\n",
              "      <button class=\"colab-df-quickchart\" onclick=\"quickchart('df-5840cdd0-48d3-4fe4-a365-862de7bb016d')\"\n",
              "                title=\"Suggest charts\"\n",
              "                style=\"display:none;\">\n",
              "\n",
              "<svg xmlns=\"http://www.w3.org/2000/svg\" height=\"24px\"viewBox=\"0 0 24 24\"\n",
              "     width=\"24px\">\n",
              "    <g>\n",
              "        <path d=\"M19 3H5c-1.1 0-2 .9-2 2v14c0 1.1.9 2 2 2h14c1.1 0 2-.9 2-2V5c0-1.1-.9-2-2-2zM9 17H7v-7h2v7zm4 0h-2V7h2v10zm4 0h-2v-4h2v4z\"/>\n",
              "    </g>\n",
              "</svg>\n",
              "      </button>\n",
              "\n",
              "<style>\n",
              "  .colab-df-quickchart {\n",
              "      --bg-color: #E8F0FE;\n",
              "      --fill-color: #1967D2;\n",
              "      --hover-bg-color: #E2EBFA;\n",
              "      --hover-fill-color: #174EA6;\n",
              "      --disabled-fill-color: #AAA;\n",
              "      --disabled-bg-color: #DDD;\n",
              "  }\n",
              "\n",
              "  [theme=dark] .colab-df-quickchart {\n",
              "      --bg-color: #3B4455;\n",
              "      --fill-color: #D2E3FC;\n",
              "      --hover-bg-color: #434B5C;\n",
              "      --hover-fill-color: #FFFFFF;\n",
              "      --disabled-bg-color: #3B4455;\n",
              "      --disabled-fill-color: #666;\n",
              "  }\n",
              "\n",
              "  .colab-df-quickchart {\n",
              "    background-color: var(--bg-color);\n",
              "    border: none;\n",
              "    border-radius: 50%;\n",
              "    cursor: pointer;\n",
              "    display: none;\n",
              "    fill: var(--fill-color);\n",
              "    height: 32px;\n",
              "    padding: 0;\n",
              "    width: 32px;\n",
              "  }\n",
              "\n",
              "  .colab-df-quickchart:hover {\n",
              "    background-color: var(--hover-bg-color);\n",
              "    box-shadow: 0 1px 2px rgba(60, 64, 67, 0.3), 0 1px 3px 1px rgba(60, 64, 67, 0.15);\n",
              "    fill: var(--button-hover-fill-color);\n",
              "  }\n",
              "\n",
              "  .colab-df-quickchart-complete:disabled,\n",
              "  .colab-df-quickchart-complete:disabled:hover {\n",
              "    background-color: var(--disabled-bg-color);\n",
              "    fill: var(--disabled-fill-color);\n",
              "    box-shadow: none;\n",
              "  }\n",
              "\n",
              "  .colab-df-spinner {\n",
              "    border: 2px solid var(--fill-color);\n",
              "    border-color: transparent;\n",
              "    border-bottom-color: var(--fill-color);\n",
              "    animation:\n",
              "      spin 1s steps(1) infinite;\n",
              "  }\n",
              "\n",
              "  @keyframes spin {\n",
              "    0% {\n",
              "      border-color: transparent;\n",
              "      border-bottom-color: var(--fill-color);\n",
              "      border-left-color: var(--fill-color);\n",
              "    }\n",
              "    20% {\n",
              "      border-color: transparent;\n",
              "      border-left-color: var(--fill-color);\n",
              "      border-top-color: var(--fill-color);\n",
              "    }\n",
              "    30% {\n",
              "      border-color: transparent;\n",
              "      border-left-color: var(--fill-color);\n",
              "      border-top-color: var(--fill-color);\n",
              "      border-right-color: var(--fill-color);\n",
              "    }\n",
              "    40% {\n",
              "      border-color: transparent;\n",
              "      border-right-color: var(--fill-color);\n",
              "      border-top-color: var(--fill-color);\n",
              "    }\n",
              "    60% {\n",
              "      border-color: transparent;\n",
              "      border-right-color: var(--fill-color);\n",
              "    }\n",
              "    80% {\n",
              "      border-color: transparent;\n",
              "      border-right-color: var(--fill-color);\n",
              "      border-bottom-color: var(--fill-color);\n",
              "    }\n",
              "    90% {\n",
              "      border-color: transparent;\n",
              "      border-bottom-color: var(--fill-color);\n",
              "    }\n",
              "  }\n",
              "</style>\n",
              "\n",
              "      <script>\n",
              "        async function quickchart(key) {\n",
              "          const quickchartButtonEl =\n",
              "            document.querySelector('#' + key + ' button');\n",
              "          quickchartButtonEl.disabled = true;  // To prevent multiple clicks.\n",
              "          quickchartButtonEl.classList.add('colab-df-spinner');\n",
              "          try {\n",
              "            const charts = await google.colab.kernel.invokeFunction(\n",
              "                'suggestCharts', [key], {});\n",
              "          } catch (error) {\n",
              "            console.error('Error during call to suggestCharts:', error);\n",
              "          }\n",
              "          quickchartButtonEl.classList.remove('colab-df-spinner');\n",
              "          quickchartButtonEl.classList.add('colab-df-quickchart-complete');\n",
              "        }\n",
              "        (() => {\n",
              "          let quickchartButtonEl =\n",
              "            document.querySelector('#df-5840cdd0-48d3-4fe4-a365-862de7bb016d button');\n",
              "          quickchartButtonEl.style.display =\n",
              "            google.colab.kernel.accessAllowed ? 'block' : 'none';\n",
              "        })();\n",
              "      </script>\n",
              "    </div>\n",
              "\n",
              "    </div>\n",
              "  </div>\n"
            ],
            "application/vnd.google.colaboratory.intrinsic+json": {
              "type": "dataframe",
              "variable_name": "df",
              "summary": "{\n  \"name\": \"df\",\n  \"rows\": 82548,\n  \"fields\": [\n    {\n      \"column\": \"\\uc8fc\\ubb38ID\",\n      \"properties\": {\n        \"dtype\": \"string\",\n        \"num_unique_values\": 82548,\n        \"samples\": [\n          \"7c5c8b715064d5bf2ee6a1cef59f2853\",\n          \"b3ceb7d2c66651bd0f6531ffba8745fb\",\n          \"ea857ad0ce4b75ad53e58520fd4f8e00\"\n        ],\n        \"semantic_type\": \"\",\n        \"description\": \"\"\n      }\n    },\n    {\n      \"column\": \"\\ub9ac\\ubdf0ID\",\n      \"properties\": {\n        \"dtype\": \"string\",\n        \"num_unique_values\": 82339,\n        \"samples\": [\n          \"8fa0c64649f8ec847969e30df62379aa\",\n          \"40539aeb639ac485cafd6ae2c1fa8800\",\n          \"6608314bc749ed5086fd9bf9955cdf55\"\n        ],\n        \"semantic_type\": \"\",\n        \"description\": \"\"\n      }\n    },\n    {\n      \"column\": \"\\ub9ac\\ubdf0\\uc810\\uc218\",\n      \"properties\": {\n        \"dtype\": \"number\",\n        \"std\": 1,\n        \"min\": 1,\n        \"max\": 5,\n        \"num_unique_values\": 5,\n        \"samples\": [\n          4,\n          2,\n          1\n        ],\n        \"semantic_type\": \"\",\n        \"description\": \"\"\n      }\n    },\n    {\n      \"column\": \"\\ub9ac\\ubdf0\\uc791\\uc131\\uc77c\",\n      \"properties\": {\n        \"dtype\": \"object\",\n        \"num_unique_values\": 603,\n        \"samples\": [\n          \"2017-05-07 00:00:00\",\n          \"2018-02-12 00:00:00\",\n          \"2018-07-18 00:00:00\"\n        ],\n        \"semantic_type\": \"\",\n        \"description\": \"\"\n      }\n    },\n    {\n      \"column\": \"\\uc8fc\\ubb38\\uc0c1\\ud0dc\",\n      \"properties\": {\n        \"dtype\": \"category\",\n        \"num_unique_values\": 2,\n        \"samples\": [\n          \"canceled\",\n          \"delivered\"\n        ],\n        \"semantic_type\": \"\",\n        \"description\": \"\"\n      }\n    },\n    {\n      \"column\": \"\\uad6c\\ub9e4\\uc77c\\uc2dc\",\n      \"properties\": {\n        \"dtype\": \"object\",\n        \"num_unique_values\": 82241,\n        \"samples\": [\n          \"2017-04-04 21:00:40\",\n          \"2018-08-20 08:13:17\"\n        ],\n        \"semantic_type\": \"\",\n        \"description\": \"\"\n      }\n    },\n    {\n      \"column\": \"\\uc2e4\\uc81c\\ubc30\\uc1a1\\uc77c\",\n      \"properties\": {\n        \"dtype\": \"object\",\n        \"num_unique_values\": 81938,\n        \"samples\": [\n          \"2018-05-16 13:06:38\",\n          \"2018-03-09 23:04:30\"\n        ],\n        \"semantic_type\": \"\",\n        \"description\": \"\"\n      }\n    },\n    {\n      \"column\": \"\\uc608\\uc0c1\\ubc30\\uc1a1\\uc77c\",\n      \"properties\": {\n        \"dtype\": \"object\",\n        \"num_unique_values\": 421,\n        \"samples\": [\n          \"2018-05-08\",\n          \"2017-10-25\"\n        ],\n        \"semantic_type\": \"\",\n        \"description\": \"\"\n      }\n    },\n    {\n      \"column\": \"\\uace0\\uac1d\\uace0\\uc720ID\",\n      \"properties\": {\n        \"dtype\": \"string\",\n        \"num_unique_values\": 80489,\n        \"samples\": [\n          \"af037724adaa380eb037626157e8c573\",\n          \"d447fcbee131a9fe4955aae76005a7ae\"\n        ],\n        \"semantic_type\": \"\",\n        \"description\": \"\"\n      }\n    },\n    {\n      \"column\": \"\\uace0\\uac1d\\uc6b0\\ud3b8\\ubc88\\ud638\\uc55e\\uc790\\ub9ac\",\n      \"properties\": {\n        \"dtype\": \"number\",\n        \"std\": 29908,\n        \"min\": 1003,\n        \"max\": 99980,\n        \"num_unique_values\": 14318,\n        \"samples\": [\n          17507,\n          72870\n        ],\n        \"semantic_type\": \"\",\n        \"description\": \"\"\n      }\n    },\n    {\n      \"column\": \"\\uace0\\uac1d\\ub3c4\\uc2dc\",\n      \"properties\": {\n        \"dtype\": \"category\",\n        \"num_unique_values\": 3887,\n        \"samples\": [\n          \"santa cruz do capibaribe\",\n          \"aratiba\"\n        ],\n        \"semantic_type\": \"\",\n        \"description\": \"\"\n      }\n    },\n    {\n      \"column\": \"\\uace0\\uac1d\\uc8fc\",\n      \"properties\": {\n        \"dtype\": \"category\",\n        \"num_unique_values\": 27,\n        \"samples\": [\n          \"CE\",\n          \"MA\"\n        ],\n        \"semantic_type\": \"\",\n        \"description\": \"\"\n      }\n    },\n    {\n      \"column\": \"\\uc8fc\\ubb38\\uac1c\\uc218\",\n      \"properties\": {\n        \"dtype\": \"number\",\n        \"std\": 0,\n        \"min\": 1,\n        \"max\": 2,\n        \"num_unique_values\": 2,\n        \"samples\": [\n          2,\n          1\n        ],\n        \"semantic_type\": \"\",\n        \"description\": \"\"\n      }\n    },\n    {\n      \"column\": \"\\uc0c1\\ud488\\uac00\\uaca9\\ud569\\uacc4\",\n      \"properties\": {\n        \"dtype\": \"number\",\n        \"std\": 117.14150811010741,\n        \"min\": 0.85,\n        \"max\": 969.0,\n        \"num_unique_values\": 5769,\n        \"samples\": [\n          288.28,\n          511.8\n        ],\n        \"semantic_type\": \"\",\n        \"description\": \"\"\n      }\n    },\n    {\n      \"column\": \"\\ubc30\\uc1a1\\ube44\\ud569\\uacc4\",\n      \"properties\": {\n        \"dtype\": \"number\",\n        \"std\": 10.659119490037837,\n        \"min\": 0.0,\n        \"max\": 70.0,\n        \"num_unique_values\": 5207,\n        \"samples\": [\n          19.39,\n          17.26\n        ],\n        \"semantic_type\": \"\",\n        \"description\": \"\"\n      }\n    },\n    {\n      \"column\": \"\\uc0c1\\ud488\\uce74\\ud14c\\uace0\\ub9ac\",\n      \"properties\": {\n        \"dtype\": \"category\",\n        \"num_unique_values\": 13,\n        \"samples\": [\n          \"\\uc544\\uae30/\\uc721\\uc544/\\uc644\\uad6c\",\n          \"\\uc2dd\\ud488/\\uc74c\\ub8cc\"\n        ],\n        \"semantic_type\": \"\",\n        \"description\": \"\"\n      }\n    },\n    {\n      \"column\": \"\\uacb0\\uc81c\\uae08\\uc561(\\uc8fc\\ubb38\\ud569)\",\n      \"properties\": {\n        \"dtype\": \"number\",\n        \"std\": 121.29314410278617,\n        \"min\": 10.07,\n        \"max\": 997.37,\n        \"num_unique_values\": 22682,\n        \"samples\": [\n          60.73,\n          337.42\n        ],\n        \"semantic_type\": \"\",\n        \"description\": \"\"\n      }\n    },\n    {\n      \"column\": \"\\ucd1d\\uacb0\\uc81c\\uae08\\uc561\",\n      \"properties\": {\n        \"dtype\": \"number\",\n        \"std\": 121.29314410278617,\n        \"min\": 10.07,\n        \"max\": 997.37,\n        \"num_unique_values\": 22682,\n        \"samples\": [\n          60.73,\n          337.42\n        ],\n        \"semantic_type\": \"\",\n        \"description\": \"\"\n      }\n    },\n    {\n      \"column\": \"\\ubc30\\uc1a1\\uc9c0\\uc5f0\\uc77c\\uc218\",\n      \"properties\": {\n        \"dtype\": \"number\",\n        \"std\": 7,\n        \"min\": -10,\n        \"max\": 30,\n        \"num_unique_values\": 41,\n        \"samples\": [\n          17,\n          12\n        ],\n        \"semantic_type\": \"\",\n        \"description\": \"\"\n      }\n    },\n    {\n      \"column\": \"\\ubc30\\uc1a1\\uc9c0\\uc5f0\\uc5ec\\ubd80\",\n      \"properties\": {\n        \"dtype\": \"number\",\n        \"std\": 0,\n        \"min\": 0,\n        \"max\": 1,\n        \"num_unique_values\": 2,\n        \"samples\": [\n          1,\n          0\n        ],\n        \"semantic_type\": \"\",\n        \"description\": \"\"\n      }\n    }\n  ]\n}"
            }
          },
          "metadata": {},
          "execution_count": 5
        }
      ]
    },
    {
      "cell_type": "markdown",
      "source": [
        "- 폰트 업로드"
      ],
      "metadata": {
        "id": "_pPQPnMfWaOD"
      }
    },
    {
      "cell_type": "code",
      "source": [
        "from google.colab import files\n",
        "\n",
        "uploaded = files.upload()"
      ],
      "metadata": {
        "colab": {
          "base_uri": "https://localhost:8080/",
          "height": 76
        },
        "id": "1S9SpkPXSX-g",
        "outputId": "f00e0c50-ef0f-4af3-dd47-96f0627f95bb"
      },
      "execution_count": null,
      "outputs": [
        {
          "output_type": "display_data",
          "data": {
            "text/plain": [
              "<IPython.core.display.HTML object>"
            ],
            "text/html": [
              "\n",
              "     <input type=\"file\" id=\"files-11331656-03e0-4e3f-84f1-533665c76b1e\" name=\"files[]\" multiple disabled\n",
              "        style=\"border:none\" />\n",
              "     <output id=\"result-11331656-03e0-4e3f-84f1-533665c76b1e\">\n",
              "      Upload widget is only available when the cell has been executed in the\n",
              "      current browser session. Please rerun this cell to enable.\n",
              "      </output>\n",
              "      <script>// Copyright 2017 Google LLC\n",
              "//\n",
              "// Licensed under the Apache License, Version 2.0 (the \"License\");\n",
              "// you may not use this file except in compliance with the License.\n",
              "// You may obtain a copy of the License at\n",
              "//\n",
              "//      http://www.apache.org/licenses/LICENSE-2.0\n",
              "//\n",
              "// Unless required by applicable law or agreed to in writing, software\n",
              "// distributed under the License is distributed on an \"AS IS\" BASIS,\n",
              "// WITHOUT WARRANTIES OR CONDITIONS OF ANY KIND, either express or implied.\n",
              "// See the License for the specific language governing permissions and\n",
              "// limitations under the License.\n",
              "\n",
              "/**\n",
              " * @fileoverview Helpers for google.colab Python module.\n",
              " */\n",
              "(function(scope) {\n",
              "function span(text, styleAttributes = {}) {\n",
              "  const element = document.createElement('span');\n",
              "  element.textContent = text;\n",
              "  for (const key of Object.keys(styleAttributes)) {\n",
              "    element.style[key] = styleAttributes[key];\n",
              "  }\n",
              "  return element;\n",
              "}\n",
              "\n",
              "// Max number of bytes which will be uploaded at a time.\n",
              "const MAX_PAYLOAD_SIZE = 100 * 1024;\n",
              "\n",
              "function _uploadFiles(inputId, outputId) {\n",
              "  const steps = uploadFilesStep(inputId, outputId);\n",
              "  const outputElement = document.getElementById(outputId);\n",
              "  // Cache steps on the outputElement to make it available for the next call\n",
              "  // to uploadFilesContinue from Python.\n",
              "  outputElement.steps = steps;\n",
              "\n",
              "  return _uploadFilesContinue(outputId);\n",
              "}\n",
              "\n",
              "// This is roughly an async generator (not supported in the browser yet),\n",
              "// where there are multiple asynchronous steps and the Python side is going\n",
              "// to poll for completion of each step.\n",
              "// This uses a Promise to block the python side on completion of each step,\n",
              "// then passes the result of the previous step as the input to the next step.\n",
              "function _uploadFilesContinue(outputId) {\n",
              "  const outputElement = document.getElementById(outputId);\n",
              "  const steps = outputElement.steps;\n",
              "\n",
              "  const next = steps.next(outputElement.lastPromiseValue);\n",
              "  return Promise.resolve(next.value.promise).then((value) => {\n",
              "    // Cache the last promise value to make it available to the next\n",
              "    // step of the generator.\n",
              "    outputElement.lastPromiseValue = value;\n",
              "    return next.value.response;\n",
              "  });\n",
              "}\n",
              "\n",
              "/**\n",
              " * Generator function which is called between each async step of the upload\n",
              " * process.\n",
              " * @param {string} inputId Element ID of the input file picker element.\n",
              " * @param {string} outputId Element ID of the output display.\n",
              " * @return {!Iterable<!Object>} Iterable of next steps.\n",
              " */\n",
              "function* uploadFilesStep(inputId, outputId) {\n",
              "  const inputElement = document.getElementById(inputId);\n",
              "  inputElement.disabled = false;\n",
              "\n",
              "  const outputElement = document.getElementById(outputId);\n",
              "  outputElement.innerHTML = '';\n",
              "\n",
              "  const pickedPromise = new Promise((resolve) => {\n",
              "    inputElement.addEventListener('change', (e) => {\n",
              "      resolve(e.target.files);\n",
              "    });\n",
              "  });\n",
              "\n",
              "  const cancel = document.createElement('button');\n",
              "  inputElement.parentElement.appendChild(cancel);\n",
              "  cancel.textContent = 'Cancel upload';\n",
              "  const cancelPromise = new Promise((resolve) => {\n",
              "    cancel.onclick = () => {\n",
              "      resolve(null);\n",
              "    };\n",
              "  });\n",
              "\n",
              "  // Wait for the user to pick the files.\n",
              "  const files = yield {\n",
              "    promise: Promise.race([pickedPromise, cancelPromise]),\n",
              "    response: {\n",
              "      action: 'starting',\n",
              "    }\n",
              "  };\n",
              "\n",
              "  cancel.remove();\n",
              "\n",
              "  // Disable the input element since further picks are not allowed.\n",
              "  inputElement.disabled = true;\n",
              "\n",
              "  if (!files) {\n",
              "    return {\n",
              "      response: {\n",
              "        action: 'complete',\n",
              "      }\n",
              "    };\n",
              "  }\n",
              "\n",
              "  for (const file of files) {\n",
              "    const li = document.createElement('li');\n",
              "    li.append(span(file.name, {fontWeight: 'bold'}));\n",
              "    li.append(span(\n",
              "        `(${file.type || 'n/a'}) - ${file.size} bytes, ` +\n",
              "        `last modified: ${\n",
              "            file.lastModifiedDate ? file.lastModifiedDate.toLocaleDateString() :\n",
              "                                    'n/a'} - `));\n",
              "    const percent = span('0% done');\n",
              "    li.appendChild(percent);\n",
              "\n",
              "    outputElement.appendChild(li);\n",
              "\n",
              "    const fileDataPromise = new Promise((resolve) => {\n",
              "      const reader = new FileReader();\n",
              "      reader.onload = (e) => {\n",
              "        resolve(e.target.result);\n",
              "      };\n",
              "      reader.readAsArrayBuffer(file);\n",
              "    });\n",
              "    // Wait for the data to be ready.\n",
              "    let fileData = yield {\n",
              "      promise: fileDataPromise,\n",
              "      response: {\n",
              "        action: 'continue',\n",
              "      }\n",
              "    };\n",
              "\n",
              "    // Use a chunked sending to avoid message size limits. See b/62115660.\n",
              "    let position = 0;\n",
              "    do {\n",
              "      const length = Math.min(fileData.byteLength - position, MAX_PAYLOAD_SIZE);\n",
              "      const chunk = new Uint8Array(fileData, position, length);\n",
              "      position += length;\n",
              "\n",
              "      const base64 = btoa(String.fromCharCode.apply(null, chunk));\n",
              "      yield {\n",
              "        response: {\n",
              "          action: 'append',\n",
              "          file: file.name,\n",
              "          data: base64,\n",
              "        },\n",
              "      };\n",
              "\n",
              "      let percentDone = fileData.byteLength === 0 ?\n",
              "          100 :\n",
              "          Math.round((position / fileData.byteLength) * 100);\n",
              "      percent.textContent = `${percentDone}% done`;\n",
              "\n",
              "    } while (position < fileData.byteLength);\n",
              "  }\n",
              "\n",
              "  // All done.\n",
              "  yield {\n",
              "    response: {\n",
              "      action: 'complete',\n",
              "    }\n",
              "  };\n",
              "}\n",
              "\n",
              "scope.google = scope.google || {};\n",
              "scope.google.colab = scope.google.colab || {};\n",
              "scope.google.colab._files = {\n",
              "  _uploadFiles,\n",
              "  _uploadFilesContinue,\n",
              "};\n",
              "})(self);\n",
              "</script> "
            ]
          },
          "metadata": {}
        },
        {
          "output_type": "stream",
          "name": "stdout",
          "text": [
            "Saving NanumGothic.ttf to NanumGothic.ttf\n"
          ]
        }
      ]
    },
    {
      "cell_type": "code",
      "source": [
        "import os\n",
        "font_path = '/content/NanumGothic.ttf'\n",
        "print('exists:', os.path.exists(font_path), 'cwd:', os.getcwd())\n",
        "\n",
        "import matplotlib as mpl\n",
        "import matplotlib.pyplot as plt\n",
        "from matplotlib import font_manager as fm\n",
        "\n",
        "fm._load_fontmanager(try_read_cache=False)\n",
        "\n",
        "fm.fontManager.addfont(font_path)\n",
        "prop = fm.FontProperties(fname=font_path)\n",
        "family_name = prop.get_name()\n",
        "print('detected family:', family_name)\n",
        "mpl.rcParams['font.family'] = family_name\n",
        "mpl.rcParams['axes.unicode_minus'] = False"
      ],
      "metadata": {
        "colab": {
          "base_uri": "https://localhost:8080/"
        },
        "id": "_9T3JRXbWeCR",
        "outputId": "3ffbb0f1-b902-4c2f-c3c9-d8f3f771f85c"
      },
      "execution_count": null,
      "outputs": [
        {
          "output_type": "stream",
          "name": "stdout",
          "text": [
            "exists: True cwd: /content\n",
            "detected family: NanumGothic\n"
          ]
        }
      ]
    },
    {
      "cell_type": "markdown",
      "source": [
        "# H2-1: 상품 가격이 높을수록 고객은 리뷰 점수에 더 민감할 것이다."
      ],
      "metadata": {
        "id": "hmpAYMHsHzd7"
      }
    },
    {
      "cell_type": "code",
      "source": [
        "df['상품가격합계'].describe()"
      ],
      "metadata": {
        "colab": {
          "base_uri": "https://localhost:8080/",
          "height": 335
        },
        "id": "E85CgyLM8JZp",
        "outputId": "90867ee4-4a02-470d-8a51-b132fc04f420"
      },
      "execution_count": null,
      "outputs": [
        {
          "output_type": "execute_result",
          "data": {
            "text/plain": [
              "count    82548.000000\n",
              "mean       114.773925\n",
              "std        117.141508\n",
              "min          0.850000\n",
              "25%         44.900000\n",
              "50%         79.990000\n",
              "75%        139.990000\n",
              "max        969.000000\n",
              "Name: 상품가격합계, dtype: float64"
            ],
            "text/html": [
              "<div>\n",
              "<style scoped>\n",
              "    .dataframe tbody tr th:only-of-type {\n",
              "        vertical-align: middle;\n",
              "    }\n",
              "\n",
              "    .dataframe tbody tr th {\n",
              "        vertical-align: top;\n",
              "    }\n",
              "\n",
              "    .dataframe thead th {\n",
              "        text-align: right;\n",
              "    }\n",
              "</style>\n",
              "<table border=\"1\" class=\"dataframe\">\n",
              "  <thead>\n",
              "    <tr style=\"text-align: right;\">\n",
              "      <th></th>\n",
              "      <th>상품가격합계</th>\n",
              "    </tr>\n",
              "  </thead>\n",
              "  <tbody>\n",
              "    <tr>\n",
              "      <th>count</th>\n",
              "      <td>82548.000000</td>\n",
              "    </tr>\n",
              "    <tr>\n",
              "      <th>mean</th>\n",
              "      <td>114.773925</td>\n",
              "    </tr>\n",
              "    <tr>\n",
              "      <th>std</th>\n",
              "      <td>117.141508</td>\n",
              "    </tr>\n",
              "    <tr>\n",
              "      <th>min</th>\n",
              "      <td>0.850000</td>\n",
              "    </tr>\n",
              "    <tr>\n",
              "      <th>25%</th>\n",
              "      <td>44.900000</td>\n",
              "    </tr>\n",
              "    <tr>\n",
              "      <th>50%</th>\n",
              "      <td>79.990000</td>\n",
              "    </tr>\n",
              "    <tr>\n",
              "      <th>75%</th>\n",
              "      <td>139.990000</td>\n",
              "    </tr>\n",
              "    <tr>\n",
              "      <th>max</th>\n",
              "      <td>969.000000</td>\n",
              "    </tr>\n",
              "  </tbody>\n",
              "</table>\n",
              "</div><br><label><b>dtype:</b> float64</label>"
            ]
          },
          "metadata": {},
          "execution_count": 8
        }
      ]
    },
    {
      "cell_type": "code",
      "source": [
        "# '상품가격합계'값을 10분위로 나누어 '가격구간'에 저장\n",
        "df[\"가격구간\"] = pd.qcut(df[\"상품가격합계\"], 15)\n",
        "\n",
        "# '상품가격합계'의 '가격구간'별 중앙값\n",
        "price = df.groupby(\"가격구간\")[\"상품가격합계\"].median()\n",
        "\n",
        "# '리뷰점수'의 '가격구간'별 평균\n",
        "price_scores = df.groupby(\"가격구간\")[\"리뷰점수\"].mean()\n",
        "\n",
        "# 산점도 + 선 그래프\n",
        "plt.scatter(price, price_scores, color=\"blue\")   # 점\n",
        "plt.plot(price, price_scores, color=\"blue\")      # 선 연결\n",
        "plt.title(\"상품가격별 평균 리뷰점수\")\n",
        "plt.xlabel(\"상품가격(구간 중앙값)\")\n",
        "plt.ylabel(\"평균 리뷰점수\")\n",
        "plt.grid(True)\n",
        "plt.show()"
      ],
      "metadata": {
        "colab": {
          "base_uri": "https://localhost:8080/",
          "height": 564
        },
        "id": "xN3gF_deDFAm",
        "outputId": "f96385f9-4ec6-4a53-9277-7329d9a8b848"
      },
      "execution_count": null,
      "outputs": [
        {
          "output_type": "stream",
          "name": "stderr",
          "text": [
            "/tmp/ipython-input-1799001716.py:5: FutureWarning: The default of observed=False is deprecated and will be changed to True in a future version of pandas. Pass observed=False to retain current behavior or observed=True to adopt the future default and silence this warning.\n",
            "  price = df.groupby(\"가격구간\")[\"상품가격합계\"].median()\n",
            "/tmp/ipython-input-1799001716.py:8: FutureWarning: The default of observed=False is deprecated and will be changed to True in a future version of pandas. Pass observed=False to retain current behavior or observed=True to adopt the future default and silence this warning.\n",
            "  price_scores = df.groupby(\"가격구간\")[\"리뷰점수\"].mean()\n"
          ]
        },
        {
          "output_type": "display_data",
          "data": {
            "text/plain": [
              "<Figure size 640x480 with 1 Axes>"
            ],
            "image/png": "[encoded data removed]"
          },
          "metadata": {}
        }
      ]
    },
    {
      "cell_type": "markdown",
      "source": [
        "# H2-2: 배송비가 높을수록 리뷰 점수는 낮을 가능성이 있다."
      ],
      "metadata": {
        "id": "AsHXasfYIbew"
      }
    },
    {
      "cell_type": "code",
      "source": [
        "df['배송비합계'].describe()"
      ],
      "metadata": {
        "colab": {
          "base_uri": "https://localhost:8080/",
          "height": 335
        },
        "id": "wj6MDI3_IytG",
        "outputId": "b0092fd1-0672-4dfd-e2d2-014250d736f4"
      },
      "execution_count": null,
      "outputs": [
        {
          "output_type": "execute_result",
          "data": {
            "text/plain": [
              "count    82548.000000\n",
              "mean        19.573702\n",
              "std         10.659119\n",
              "min          0.000000\n",
              "25%         13.470000\n",
              "50%         16.680000\n",
              "75%         22.330000\n",
              "max         70.000000\n",
              "Name: 배송비합계, dtype: float64"
            ],
            "text/html": [
              "<div>\n",
              "<style scoped>\n",
              "    .dataframe tbody tr th:only-of-type {\n",
              "        vertical-align: middle;\n",
              "    }\n",
              "\n",
              "    .dataframe tbody tr th {\n",
              "        vertical-align: top;\n",
              "    }\n",
              "\n",
              "    .dataframe thead th {\n",
              "        text-align: right;\n",
              "    }\n",
              "</style>\n",
              "<table border=\"1\" class=\"dataframe\">\n",
              "  <thead>\n",
              "    <tr style=\"text-align: right;\">\n",
              "      <th></th>\n",
              "      <th>배송비합계</th>\n",
              "    </tr>\n",
              "  </thead>\n",
              "  <tbody>\n",
              "    <tr>\n",
              "      <th>count</th>\n",
              "      <td>82548.000000</td>\n",
              "    </tr>\n",
              "    <tr>\n",
              "      <th>mean</th>\n",
              "      <td>19.573702</td>\n",
              "    </tr>\n",
              "    <tr>\n",
              "      <th>std</th>\n",
              "      <td>10.659119</td>\n",
              "    </tr>\n",
              "    <tr>\n",
              "      <th>min</th>\n",
              "      <td>0.000000</td>\n",
              "    </tr>\n",
              "    <tr>\n",
              "      <th>25%</th>\n",
              "      <td>13.470000</td>\n",
              "    </tr>\n",
              "    <tr>\n",
              "      <th>50%</th>\n",
              "      <td>16.680000</td>\n",
              "    </tr>\n",
              "    <tr>\n",
              "      <th>75%</th>\n",
              "      <td>22.330000</td>\n",
              "    </tr>\n",
              "    <tr>\n",
              "      <th>max</th>\n",
              "      <td>70.000000</td>\n",
              "    </tr>\n",
              "  </tbody>\n",
              "</table>\n",
              "</div><br><label><b>dtype:</b> float64</label>"
            ]
          },
          "metadata": {},
          "execution_count": 10
        }
      ]
    },
    {
      "cell_type": "code",
      "source": [
        "# '배송비합계'값을 10분위로 나누어 '배송비구간'에 저장\n",
        "df[\"배송비구간\"] = pd.qcut(df[\"배송비합계\"], 15)\n",
        "\n",
        "# '배송비합계'의 '배송비구간'별 중앙값\n",
        "ship = df.groupby(\"배송비구간\")[\"배송비합계\"].median()\n",
        "\n",
        "# '리뷰점수'의 '배송비구간'별 평균\n",
        "ship_scores = df.groupby(\"배송비구간\")[\"리뷰점수\"].mean()\n",
        "\n",
        "# 산점도 + 선 그래프\n",
        "plt.scatter(ship, ship_scores, color=\"blue\")   # 점\n",
        "plt.plot(ship, ship_scores, color=\"blue\")      # 선 연결\n",
        "plt.title(\"배송비별 평균 리뷰점수\")\n",
        "plt.xlabel(\"배송비 (구간 중앙값)\")\n",
        "plt.ylabel(\"평균 리뷰점수\")\n",
        "plt.grid(True)\n",
        "plt.show()"
      ],
      "metadata": {
        "colab": {
          "base_uri": "https://localhost:8080/",
          "height": 564
        },
        "id": "1aIeNmNhIaDt",
        "outputId": "13131275-3b16-436e-c887-f4b21b3e201e"
      },
      "execution_count": null,
      "outputs": [
        {
          "output_type": "stream",
          "name": "stderr",
          "text": [
            "/tmp/ipython-input-1509646824.py:5: FutureWarning: The default of observed=False is deprecated and will be changed to True in a future version of pandas. Pass observed=False to retain current behavior or observed=True to adopt the future default and silence this warning.\n",
            "  ship = df.groupby(\"배송비구간\")[\"배송비합계\"].median()\n",
            "/tmp/ipython-input-1509646824.py:8: FutureWarning: The default of observed=False is deprecated and will be changed to True in a future version of pandas. Pass observed=False to retain current behavior or observed=True to adopt the future default and silence this warning.\n",
            "  ship_scores = df.groupby(\"배송비구간\")[\"리뷰점수\"].mean()\n"
          ]
        },
        {
          "output_type": "display_data",
          "data": {
            "text/plain": [
              "<Figure size 640x480 with 1 Axes>"
            ],
            "image/png": "[encoded data removed]"
          },
          "metadata": {}
        }
      ]
    },
    {
      "cell_type": "markdown",
      "source": [
        "- 상관계수\n",
        "\n",
        "변수끼리의 관계 강도 방향과 강도 확인\n",
        "\n",
        "값이 1에 가까우면 관계가 가깝다, 같이 오른다\n",
        "\n",
        "값이 -1에 가까우면 반비례하다, 오르면 내린다\n",
        "\n",
        "0에 가까우면 관계가 거의 없다."
      ],
      "metadata": {
        "id": "p2UDZHRBRvRw"
      }
    },
    {
      "cell_type": "code",
      "source": [
        "from scipy import stats\n",
        "\n",
        "for x in [\"상품가격합계\",\"배송비합계\"]:\n",
        "    r, p = stats.spearmanr(df[x], df[\"리뷰점수\"], nan_policy=\"omit\")\n",
        "    print(f\"{x} vs 리뷰점수: ρ={r:.3f}, p={p:.3g}\")"
      ],
      "metadata": {
        "colab": {
          "base_uri": "https://localhost:8080/"
        },
        "id": "cKc83L9QO-mp",
        "outputId": "8ee0baac-33c0-4b09-aa01-fe7a231af911"
      },
      "execution_count": null,
      "outputs": [
        {
          "output_type": "stream",
          "name": "stdout",
          "text": [
            "상품가격합계 vs 리뷰점수: ρ=-0.011, p=0.00142\n",
            "배송비합계 vs 리뷰점수: ρ=-0.063, p=4e-73\n"
          ]
        }
      ]
    },
    {
      "cell_type": "markdown",
      "source": [
        "상관계수는 -0.011, -0.063 으로 값이 거의 0에 가깝다.\n",
        "\n",
        "뒤에 p는 상관계수가 우연히 나온 것일 확률\n"
      ],
      "metadata": {
        "id": "0ZjzkJAoTa2C"
      }
    },
    {
      "cell_type": "markdown",
      "source": [
        "- 회귀분석\n",
        "\n",
        "변수끼리의 관계의 영향 크기와 통계적 유의성 확인"
      ],
      "metadata": {
        "id": "1xw3xfKISDFm"
      }
    },
    {
      "cell_type": "code",
      "source": [
        "import statsmodels.api as sm\n",
        "\n",
        "use = df[[\"상품가격합계\",\"배송비합계\",\"리뷰점수\"]].dropna()\n",
        "X = sm.add_constant(use[[\"상품가격합계\",\"배송비합계\"]])\n",
        "y = use[\"리뷰점수\"]\n",
        "\n",
        "model = sm.OLS(y, X).fit(cov_type=\"HC3\")\n",
        "print(model.summary())"
      ],
      "metadata": {
        "colab": {
          "base_uri": "https://localhost:8080/"
        },
        "id": "KSqOYMJ5SCqL",
        "outputId": "d21f5de1-1b5c-4bc4-8d96-a7595675c6a4"
      },
      "execution_count": null,
      "outputs": [
        {
          "output_type": "stream",
          "name": "stdout",
          "text": [
            "                            OLS Regression Results                            \n",
            "==============================================================================\n",
            "Dep. Variable:                   리뷰점수   R-squared:                       0.005\n",
            "Model:                            OLS   Adj. R-squared:                  0.005\n",
            "Method:                 Least Squares   F-statistic:                     170.7\n",
            "Date:                Wed, 20 Aug 2025   Prob (F-statistic):           1.00e-74\n",
            "Time:                        07:01:10   Log-Likelihood:            -1.3202e+05\n",
            "No. Observations:               82548   AIC:                         2.640e+05\n",
            "Df Residuals:                   82545   BIC:                         2.641e+05\n",
            "Df Model:                           2                                         \n",
            "Covariance Type:                  HC3                                         \n",
            "==============================================================================\n",
            "                 coef    std err          z      P>|z|      [0.025      0.975]\n",
            "------------------------------------------------------------------------------\n",
            "const          4.3879      0.009    493.291      0.000       4.370       4.405\n",
            "상품가격합계      9.104e-05   3.98e-05      2.289      0.022    1.31e-05       0.000\n",
            "배송비합계         -0.0081      0.000    -17.954      0.000      -0.009      -0.007\n",
            "==============================================================================\n",
            "Omnibus:                    21993.747   Durbin-Watson:                   1.998\n",
            "Prob(Omnibus):                  0.000   Jarque-Bera (JB):            45342.905\n",
            "Skew:                          -1.626   Prob(JB):                         0.00\n",
            "Kurtosis:                       4.615   Cond. No.                         350.\n",
            "==============================================================================\n",
            "\n",
            "Notes:\n",
            "[1] Standard Errors are heteroscedasticity robust (HC3)\n"
          ]
        }
      ]
    },
    {
      "cell_type": "markdown",
      "source": [
        "- R-squared : 0.005\n",
        "  모델 설명력 : 모델이 리뷰점수를 0.5%밖에 설명 못 함 즉, 리뷰점수는 다른 요인이 훨씬 중요\n",
        "\n",
        "- coef :  \n",
        "  - 상품가격합계: +0.000091 → (가격 ↑) → (리뷰점수 아주 미세하게 ↑)\n",
        "  - 배송비합계: -0.0081 → (배송비 ↑) → (리뷰점수 ↓)\n",
        "  \n",
        "  영향 방향과 크기 확인\n",
        "\n",
        "- P>|z| (p-value) :\n",
        "  - 상품가격합계 p=0.022 → 통계적으로 유의하지만 영향은 작음\n",
        "\n",
        "  - 배송비합계 p=0.000 → 매우 유의, 확실한 영향\n",
        "\n",
        "  통계적으로 유의한지 확인\n",
        "\n",
        "  0.05보다 작으면 \"진짜 효과 있음\""
      ],
      "metadata": {
        "id": "DqZQ8WlzWHpm"
      }
    }
  ]
}